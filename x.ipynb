{
 "cells": [
  {
   "cell_type": "code",
   "execution_count": 15,
   "metadata": {},
   "outputs": [
    {
     "name": "stderr",
     "output_type": "stream",
     "text": [
      "Testing instances: 100%|██████████| 16/16 [00:29<00:00,  1.86s/it]\n"
     ]
    }
   ],
   "source": [
    "import pandas as pd\n",
    "from ntscraper import Nitter\n",
    "\n",
    "scraper = Nitter(log_level= 0, skip_instance_check=False)\n",
    "language = \"\""
   ]
  },
  {
   "cell_type": "code",
   "execution_count": 16,
   "metadata": {},
   "outputs": [],
   "source": [
    "def get_tweets(query: str, mode: str = \"term\", num_tweets: int = 100, lang = 'es'):\n",
    "    '''\n",
    "    Main function for web scraping tweets.\n",
    "    Args:\n",
    "        query: Words that are going to be searched\n",
    "        mode: Searching query as a \"term\", \"hashtag\" or a \"user\" tweet\n",
    "        num_tweets: Number of tweets to be scraped\n",
    "        lang: Language of the tweets to be scraped\n",
    "    '''\n",
    "    global language\n",
    "    language = lang\n",
    "    tweets = scraper.get_tweets(terms= query, mode= mode, number= num_tweets, language= lang)\n",
    "    return tweets\n",
    "\n",
    "def tweets_to_df(tweets):\n",
    "    '''\n",
    "        Process the dictionary data from get_tweets function\n",
    "        Args:\n",
    "            tweets: Json type data collected through get_tweets\n",
    "\n",
    "        Output:\n",
    "            Pandas DataFrame with profle_id, text columns\n",
    "    '''\n",
    "    final_tweets = []\n",
    "    for tweet in tweets['tweets']:\n",
    "        data = [tweet['user']['profile_id'], tweet['text']]\n",
    "        final_tweets.append(data)\n",
    "    df = pd.DataFrame(final_tweets)\n",
    "    df.columns = [\"profile_id\", \"text\"]\n",
    "    print(final_tweets)\n",
    "    return df"
   ]
  },
  {
   "cell_type": "code",
   "execution_count": 17,
   "metadata": {},
   "outputs": [
    {
     "name": "stdout",
     "output_type": "stream",
     "text": [
      "[['1509069717373427713', 'Estoy muy cansado de tíos de 65 kg enseñándonos a levantar con unos bracitos como los de mi madre de 64 años.'], ['1819229198856175616', 'Mi tarjeta de crédito está diciendo «\\xa0estoy cansado jefe\\xa0» 🤨 sueldo de diputado creo que tengo 😂'], ['1321828570700939265', 'No soy xenófobo, pero estoy cansado de financiar a delincuentes ya sean blancos, negros, moros o cristianos No soy homófobo, pero estoy cansado de financiar a gays y lesbianas viciosos por el solo hecho de ser gays y lesbianas viciosos. No soy PPfobo, pero estoy cansado de que un partido que se dice de derechas sueñe con implantar todas y cada una de las políticas llamadas \"progresistas\" No soy politicófobo, pero estoy cansado de que unos fulanos tengan impunidad para robar a manos llenas y pretendan vivir a mi costa para siempre por el solo hecho de que alguien los incluyó en una lista electoral. Lo mío no es fobia... es rabia.'], ['1792370164219916288', 'Lo de Playstation 5 Pro es mediocre para lo que se rumoreaba, y el precio es asqueroso.   Esta generación de consolas no la compite Xbox porque no parece que quiera vender consolas. Estoy cansado, soy 100% a favor de las consolas, pero Microsoft va más por los servicios y la nube'], ['1611743513976119297', 'Estoy bastante cansado de los lloros y de los jóvenes que se creen que la generación \"BOOMER\" consiguió tener lo que tienen por arte de magia.  Tú abuelo, no viajaba cada año, no salía de fiesta, ahorraba, no comió fuera, se hipotecó y trabajaba de lunes a sábado.  ¿Tú que haces?'], ['1548536984741810177', 'estoy cansado de todo y todos.'], ['1793761570943651840', 'Okey pero,primero paguen de la preventa a nosotros los socios, estoy cansado de esperar sin información, ¿creen será buena su fama. 🤬🤬🤬😠😠😡😡😡'], ['1831347160199122944', 'Estoy cansado de actitudes de mierda de varias personas'], ['1739757300221452288', 'Pensando seriamente en quitarme el septum y no ponérmelo más. Estoy cansado de estar oliendo todo el día a coño sucio'], ['1833115516950454272', 'la puñalada. —  Alzó la vista a los ojos claros del mafioso, su voz se agrietaba pero no dejaría que se rompiera.  —Estoy cansado de ser la presa... Y a la vez me da miedo dejar de serlo. —  Se llevó una mano a los nudillos en carne viva, fruto de una pelea trabajando.']]\n"
     ]
    }
   ],
   "source": [
    "tweets = get_tweets(query=\"estoy cansado de\", lang=\"es\", num_tweets= 10)\n",
    "df = tweets_to_df(tweets)"
   ]
  },
  {
   "cell_type": "code",
   "execution_count": 18,
   "metadata": {},
   "outputs": [
    {
     "name": "stderr",
     "output_type": "stream",
     "text": [
      "[nltk_data] Downloading package stopwords to\n",
      "[nltk_data]     C:\\Users\\Pablo\\AppData\\Roaming\\nltk_data...\n",
      "[nltk_data]   Package stopwords is already up-to-date!\n"
     ]
    }
   ],
   "source": [
    "import re\n",
    "from nltk.corpus import stopwords\n",
    "import nltk\n",
    "import emoji\n",
    "\n",
    "nltk.download('stopwords')\n",
    "stopword_en = nltk.corpus.stopwords.words('english')\n",
    "stopword_es = nltk.corpus.stopwords.words('spanish')\n",
    "stop_words = stopword_en + stopword_es\n",
    "\n",
    "def clean_tweet(tweet):\n",
    "    tweet = tweet.lower()\n",
    "    tweet = re.sub(r'http\\S+', '', tweet)  # Deletes URLs\n",
    "    tweet = re.sub(r'@\\w+', '', tweet)  # Deletes mentions\n",
    "    tweet = re.sub(r'#\\w+', '', tweet)  # Deletes hashtags\n",
    "    tweet = re.sub(r'\\d+', '', tweet)  # Deletes numbers\n",
    "    tweet = ' '.join([word for word in tweet.split() if word not in stop_words])\n",
    "    tweet = emoji.replace_emoji(tweet, replace= '') # Deletes emojis\n",
    "    return tweet"
   ]
  },
  {
   "cell_type": "code",
   "execution_count": 25,
   "metadata": {},
   "outputs": [
    {
     "name": "stderr",
     "output_type": "stream",
     "text": [
      "d:\\anaconda3\\Lib\\site-packages\\transformers\\tokenization_utils_base.py:1601: FutureWarning: `clean_up_tokenization_spaces` was not set. It will be set to `True` by default. This behavior will be depracted in transformers v4.45, and will be then set to `False` by default. For more details check this issue: https://github.com/huggingface/transformers/issues/31884\n",
      "  warnings.warn(\n"
     ]
    }
   ],
   "source": [
    "from pysentimiento import create_analyzer\n",
    "from langdetect import detect\n",
    "\n",
    "def get_language(txt: str):\n",
    "    return detect(txt)\n",
    "    \n",
    "def get_sentiment(tweet):\n",
    "    analyzer = create_analyzer(task=\"sentiment\", lang= language)\n",
    "    return analyzer.predict(tweet).probas\n",
    "\n",
    "def apply_sentiment(row):\n",
    "    cleaned_tweet = clean_tweet(row['text'])\n",
    "    sentiment = get_sentiment(cleaned_tweet) \n",
    "    dominant_sentiment = max(sentiment, key=sentiment.get)\n",
    "    return pd.Series({\n",
    "        'POS': sentiment['POS'],\n",
    "        'NEU': sentiment['NEU'],\n",
    "        'NEG': sentiment['NEG'],\n",
    "        'DOMINANT_SENTIMENT': dominant_sentiment\n",
    "    })\n",
    "\n",
    "labels = ['POS', 'NEU', 'NEG', 'DOMINANT_SENTIMENT']\n",
    "df[labels] = df.apply(apply_sentiment, axis=1)\n"
   ]
  },
  {
   "cell_type": "code",
   "execution_count": 33,
   "metadata": {},
   "outputs": [
    {
     "data": {
      "image/png": "[encoded data removed]",
      "text/plain": [
       "<Figure size 1000x600 with 1 Axes>"
      ]
     },
     "metadata": {},
     "output_type": "display_data"
    }
   ],
   "source": [
    "import matplotlib.pyplot as plt\n",
    "\n",
    "plt.figure(figsize=(10,6))\n",
    "plt.hist(df['POS'], bins= 20, label='POS', color= 'blue')\n",
    "plt.hist(df['NEU'], bins=20, alpha=0.7, label='NEU', color='green')\n",
    "plt.hist(df['NEG'], bins=20, alpha=0.7, label='NEG', color='red')\n",
    "\n",
    "# Title and labels\n",
    "plt.title('Distribución de Sentimientos (POS, NEU, NEG)')\n",
    "plt.xlabel('Valor de Sentimiento')\n",
    "plt.ylabel('Frecuencia')\n",
    "plt.legend()\n",
    "\n",
    "# Show visuals\n",
    "plt.show()"
   ]
  },
  {
   "cell_type": "code",
   "execution_count": null,
   "metadata": {},
   "outputs": [],
   "source": []
  }
 ],
 "metadata": {
  "kernelspec": {
   "display_name": "base",
   "language": "python",
   "name": "python3"
  },
  "language_info": {
   "codemirror_mode": {
    "name": "ipython",
    "version": 3
   },
   "file_extension": ".py",
   "mimetype": "text/x-python",
   "name": "python",
   "nbconvert_exporter": "python",
   "pygments_lexer": "ipython3",
   "version": "3.11.7"
  }
 },
 "nbformat": 4,
 "nbformat_minor": 2
}

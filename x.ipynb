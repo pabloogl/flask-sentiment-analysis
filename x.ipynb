{
 "cells": [
  {
   "cell_type": "code",
   "execution_count": 51,
   "metadata": {},
   "outputs": [],
   "source": [
    "%pip install sentiment-analysis-spanish"
   ]
  },
  {
   "cell_type": "code",
   "execution_count": 41,
   "metadata": {},
   "outputs": [
    {
     "name": "stderr",
     "output_type": "stream",
     "text": [
      "Testing instances: 100%|██████████| 16/16 [00:27<00:00,  1.74s/it]\n"
     ]
    }
   ],
   "source": [
    "import pandas as pd\n",
    "from ntscraper import Nitter\n",
    "\n",
    "scraper = Nitter(log_level= 0, skip_instance_check=False)\n",
    "language = \"\""
   ]
  },
  {
   "cell_type": "code",
   "execution_count": 42,
   "metadata": {},
   "outputs": [],
   "source": [
    "\n",
    "def get_tweets(query: str, mode: str = \"term\", num_tweets: int = 100, lang = 'es'):\n",
    "    '''\n",
    "    Main function for web scraping tweets.\n",
    "    Args:\n",
    "        query: Words that are going to be searched\n",
    "        mode: Searching query as a \"term\", \"hashtag\" or a \"user\" tweet\n",
    "        num_tweets: Number of tweets to be scraped\n",
    "        lang: Language of the tweets to be scraped\n",
    "    '''\n",
    "    global language\n",
    "    language = lang\n",
    "    tweets = scraper.get_tweets(terms= query, mode= mode, number= num_tweets, language= lang)\n",
    "    return tweets"
   ]
  },
  {
   "cell_type": "code",
   "execution_count": 43,
   "metadata": {},
   "outputs": [
    {
     "name": "stdout",
     "output_type": "stream",
     "text": [
      "10-Sep-24 09:21:09 - Empty page on https://nitter.privacydev.net\n"
     ]
    }
   ],
   "source": [
    "tweets = get_tweets(query=\"Madrid\", lang=\"en\")"
   ]
  },
  {
   "cell_type": "code",
   "execution_count": 44,
   "metadata": {},
   "outputs": [
    {
     "data": {
      "text/plain": [
       "{'tweets': [], 'threads': []}"
      ]
     },
     "execution_count": 44,
     "metadata": {},
     "output_type": "execute_result"
    }
   ],
   "source": [
    "tweets"
   ]
  },
  {
   "cell_type": "code",
   "execution_count": 45,
   "metadata": {},
   "outputs": [],
   "source": [
    "final_tweets = []\n",
    "for tweet in tweets['tweets']:\n",
    "    data = [tweet['user']['profile_id'], tweet['text']]\n",
    "    final_tweets.append(data)"
   ]
  },
  {
   "cell_type": "code",
   "execution_count": 46,
   "metadata": {},
   "outputs": [],
   "source": [
    "data = pd.DataFrame(final_tweets, columns = ['profile_id', 'text'])"
   ]
  },
  {
   "cell_type": "code",
   "execution_count": 47,
   "metadata": {},
   "outputs": [
    {
     "name": "stderr",
     "output_type": "stream",
     "text": [
      "[nltk_data] Downloading package stopwords to\n",
      "[nltk_data]     C:\\Users\\Pablo\\AppData\\Roaming\\nltk_data...\n",
      "[nltk_data]   Package stopwords is already up-to-date!\n"
     ]
    }
   ],
   "source": [
    "import re\n",
    "from nltk.corpus import stopwords\n",
    "import nltk\n",
    "import emoji\n",
    "\n",
    "nltk.download('stopwords')\n",
    "stop_words = set(stopwords.words('spanish'))\n",
    "\n",
    "def clean_tweet(tweet):\n",
    "    tweet = tweet.lower()\n",
    "    tweet = re.sub(r'http\\S+', '', tweet)  # Deletes URLs\n",
    "    tweet = re.sub(r'@\\w+', '', tweet)  # Deletes mentions\n",
    "    tweet = re.sub(r'#\\w+', '', tweet)  # Deletes hashtags\n",
    "    tweet = re.sub(r'\\d+', '', tweet)  # Deletes numbers\n",
    "      # Converts text into lowcase\n",
    "    tweet = ' '.join([word for word in tweet.split() if word not in stop_words])\n",
    "    tweet = emoji.replace_emoji(tweet, replace= '') # Deletes emojis\n",
    "    return tweet"
   ]
  },
  {
   "cell_type": "code",
   "execution_count": 50,
   "metadata": {},
   "outputs": [],
   "source": [
    "from pysentimiento import create_analyzer\n",
    "from langdetect import detect\n",
    "\n",
    "def get_language(txt: str):\n",
    "    return detect(txt)\n",
    "    \n",
    "def get_sentiment(tweet):\n",
    "    analyzer = create_analyzer(task=\"sentiment\", lang= language)\n",
    "    return analyzer.predict(tweet)\n",
    "\n",
    "for tweet in data['text']:\n",
    "    cleaned_tweet = clean_tweet(tweet)\n",
    "    sentiment = get_sentiment(tweet)\n",
    "    print(f'\\nTweet: {cleaned_tweet}\\nSentiment: {sentiment}\\n --------------------------------')"
   ]
  },
  {
   "cell_type": "code",
   "execution_count": null,
   "metadata": {},
   "outputs": [],
   "source": []
  }
 ],
 "metadata": {
  "kernelspec": {
   "display_name": "base",
   "language": "python",
   "name": "python3"
  },
  "language_info": {
   "codemirror_mode": {
    "name": "ipython",
    "version": 3
   },
   "file_extension": ".py",
   "mimetype": "text/x-python",
   "name": "python",
   "nbconvert_exporter": "python",
   "pygments_lexer": "ipython3",
   "version": "3.11.7"
  }
 },
 "nbformat": 4,
 "nbformat_minor": 2
}
